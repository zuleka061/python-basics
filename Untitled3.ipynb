{
  "nbformat": 4,
  "nbformat_minor": 0,
  "metadata": {
    "colab": {
      "provenance": []
    },
    "kernelspec": {
      "name": "python3",
      "display_name": "Python 3"
    },
    "language_info": {
      "name": "python"
    }
  },
  "cells": [
    {
      "cell_type": "markdown",
      "source": [
        "#Python Basics#"
      ],
      "metadata": {
        "id": "lv3Y_pQTVIFM"
      }
    },
    {
      "cell_type": "markdown",
      "source": [
        "# New Section"
      ],
      "metadata": {
        "id": "zWByqkYKYkFh"
      }
    },
    {
      "cell_type": "markdown",
      "source": [
        "1. what is python, and why it is popular?\n",
        "\n",
        "  --> python is a high level, interprted programming language known for its simplicity and readability.\n",
        "     it is popular due to its versality ,extensive libraries , and used in various fields.\n",
        "       "
      ],
      "metadata": {
        "id": "ZMN0k4cvqeqG"
      }
    },
    {
      "cell_type": "markdown",
      "source": [
        "2. what is an interpreter in python ?\n",
        "  \n",
        "  ---> An interpreter in python is a program that reads and executes python code line by line."
      ],
      "metadata": {
        "id": "Ax5OPv50rbeA"
      }
    },
    {
      "cell_type": "markdown",
      "source": [
        "3. what are pre-defined keywords in python ?\n",
        "---> pre-defined keywords in python are reserved words that have a special meanings and cannot be used as a variable name.\n",
        "example: if , else , for ,etc"
      ],
      "metadata": {
        "id": "rA3Ty4sxsOm9"
      }
    },
    {
      "cell_type": "markdown",
      "source": [
        "4. can keywords be used as variable names?\n",
        "\n",
        "   ---> NO, keywords cannot be used as variable name."
      ],
      "metadata": {
        "id": "XNcvFPUxs7uW"
      }
    },
    {
      "cell_type": "markdown",
      "source": [
        "5. what is mutability in python?\n",
        "\n",
        "   --->Mutability in python refers to the ability of an object to be modified after it is created."
      ],
      "metadata": {
        "id": "rO5RVexjtVWe"
      }
    },
    {
      "cell_type": "markdown",
      "source": [
        "6.why are lists are mutable ,but tuple are immutable ?\n",
        "\n",
        "  --->Lists are mutable because they are designed to be modified after it is created .\n",
        "   Tuples are immutable because its cannot be changed once's its created."
      ],
      "metadata": {
        "id": "OCIvwhhEuCAd"
      }
    },
    {
      "cell_type": "markdown",
      "source": [
        "7. what is the difference between \"==\" and \"is\" operators in python ?\n",
        "\n",
        "  ===> The \"==\" operator checks for equality in value.it compares the values of two objects and returns True if they are equal and false otherwise.\n",
        "    The \"is \" operator checks for identity.its checks if two objects are the same object in memory( same memory address)"
      ],
      "metadata": {
        "id": "lQ2d3M_3vSqk"
      }
    },
    {
      "cell_type": "markdown",
      "source": [
        "8. what are logical operators in python ?\n",
        "\n",
        "  ---> Logical operators  are used to combine conditional statements and make decision based on multiple conditions. python has three logical operators (AND ,OR ,NOT operators)"
      ],
      "metadata": {
        "id": "vargYm2RxGTi"
      }
    },
    {
      "cell_type": "markdown",
      "source": [
        "9. what is type casting in python ?\n",
        "---> Type casting in python is the process of converting one data type into another."
      ],
      "metadata": {
        "id": "ZYkdEpn3yQrn"
      }
    },
    {
      "cell_type": "markdown",
      "source": [
        "10. what is the difference between implicit and explicit type casting ?\n",
        "\n",
        "===> Implicit type casting is done automatically by python , where as explicit type casting is done manually by the programmer using type casting functions."
      ],
      "metadata": {
        "id": "VPCdN_xKyq4R"
      }
    },
    {
      "cell_type": "markdown",
      "source": [
        "11. what is the purpose of conditional statement in python?\n",
        "\n",
        " --->Conditional statement in python are used to make decissions based on certain condition. They allow the program to execute different blocks of code depending on  condition (true, false)"
      ],
      "metadata": {
        "id": "5SS-dnDLzdE7"
      }
    },
    {
      "cell_type": "markdown",
      "source": [
        "12. How does the elif statement work ?\n",
        "\n",
        "  ---> The elif statement is used to check another condition if the intial condition is false. It allows for multiple conditions to be checked in sequences."
      ],
      "metadata": {
        "id": "zUcm7txf0ziu"
      }
    },
    {
      "cell_type": "markdown",
      "source": [
        "13. What is the difference between for and while loop ?\n",
        "\n",
        "  ---> A For loop is used to iterate over a sequence (such as a list or string ), while a While loop is used to execute a block of code as long as a condition is true."
      ],
      "metadata": {
        "id": "b_QsoTVh1_WQ"
      }
    },
    {
      "cell_type": "markdown",
      "source": [
        "14. Describe a scenario where a While loop is more suitable than a for loop?\n",
        "\n",
        "  ===> In a ludo game ,the game loop continues until one player reaches the final destiantion .we don't know in advance how many turns it will take for a player to win,\n",
        "\n",
        "    In this case , a while loop is more suitable because it allows the game to continue until a certain condition is met (a player win)\n",
        "\n",
        "\n"
      ],
      "metadata": {
        "id": "7Ed2jeXq2zF8"
      }
    },
    {
      "cell_type": "code",
      "source": [
        "print(\"Hello world\")"
      ],
      "metadata": {
        "colab": {
          "base_uri": "https://localhost:8080/",
          "height": 0
        },
        "id": "kut3Nm_p32kO",
        "outputId": "7c3b5b67-1970-48c2-e546-6f0fbc15cd91"
      },
      "execution_count": 31,
      "outputs": [
        {
          "output_type": "stream",
          "name": "stdout",
          "text": [
            "Hello world\n"
          ]
        }
      ]
    },
    {
      "cell_type": "code",
      "source": [
        "name=\"Zuleka\"\n",
        "age=22\n",
        "print(f\"name: {name}, age:{age}\")"
      ],
      "metadata": {
        "colab": {
          "base_uri": "https://localhost:8080/",
          "height": 0
        },
        "id": "Cw0tk36Y4Awa",
        "outputId": "1cc6f676-9b9e-478e-db4c-1ebd05026cd4"
      },
      "execution_count": 32,
      "outputs": [
        {
          "output_type": "stream",
          "name": "stdout",
          "text": [
            "name: Zuleka, age:22\n"
          ]
        }
      ]
    },
    {
      "cell_type": "code",
      "source": [
        "import keyword\n",
        "print(keyword.kwlist)"
      ],
      "metadata": {
        "colab": {
          "base_uri": "https://localhost:8080/",
          "height": 0
        },
        "id": "VyqyDttv49kC",
        "outputId": "24582a22-7ee5-4222-f4ff-75cab70d2bff"
      },
      "execution_count": 33,
      "outputs": [
        {
          "output_type": "stream",
          "name": "stdout",
          "text": [
            "['False', 'None', 'True', 'and', 'as', 'assert', 'async', 'await', 'break', 'class', 'continue', 'def', 'del', 'elif', 'else', 'except', 'finally', 'for', 'from', 'global', 'if', 'import', 'in', 'is', 'lambda', 'nonlocal', 'not', 'or', 'pass', 'raise', 'return', 'try', 'while', 'with', 'yield']\n"
          ]
        }
      ]
    },
    {
      "cell_type": "code",
      "source": [
        "my_list=[1,2,3,4,5]\n",
        "print(\"original list:\" , my_list)\n",
        "\n",
        "my_tuple=(1,2,3,4,5)\n",
        "print(\"original tuple:\" , my_tuple)\n",
        "\n",
        "my_list[0]=20\n",
        "print(\"modified list:\" , my_list)\n",
        "\n",
        "print(\"modified tuple:\" , my_tuple)"
      ],
      "metadata": {
        "colab": {
          "base_uri": "https://localhost:8080/",
          "height": 0
        },
        "id": "XI1hv-CJ5RKZ",
        "outputId": "958e0dcf-b42e-4de1-b2f6-b14f306b1580"
      },
      "execution_count": 34,
      "outputs": [
        {
          "output_type": "stream",
          "name": "stdout",
          "text": [
            "original list: [1, 2, 3, 4, 5]\n",
            "original tuple: (1, 2, 3, 4, 5)\n",
            "modified list: [20, 2, 3, 4, 5]\n",
            "modified tuple: (1, 2, 3, 4, 5)\n"
          ]
        }
      ]
    },
    {
      "cell_type": "code",
      "source": [
        "my_list=[1,2,3,4]\n",
        "print(\"\\n original list :\", my_list)\n",
        "\n",
        "my_list.append(5)\n",
        "print(\"modified list :\", my_list)\n",
        "\n",
        "my_tuple=(1,2,3,4)\n",
        "print(\"\\n original tuple :\", my_tuple)\n",
        "\n",
        "my_tuple=my_tuple + (5,)\n",
        "print(\"modified tuple :\", my_tuple)"
      ],
      "metadata": {
        "colab": {
          "base_uri": "https://localhost:8080/",
          "height": 0
        },
        "id": "winKIp6r8DPy",
        "outputId": "31e8960a-9593-4a6d-8805-69fac63fa4ae"
      },
      "execution_count": 35,
      "outputs": [
        {
          "output_type": "stream",
          "name": "stdout",
          "text": [
            "\n",
            " original list : [1, 2, 3, 4]\n",
            "modified list : [1, 2, 3, 4, 5]\n",
            "\n",
            " original tuple : (1, 2, 3, 4)\n",
            "modified tuple : (1, 2, 3, 4, 5)\n"
          ]
        }
      ]
    },
    {
      "cell_type": "code",
      "source": [
        "num1=float(input(\"enter first number:\"))\n",
        "num2=float(input(\"enter second number:\"))\n",
        "\n",
        "print(\"\\nArithematic operations:\")\n",
        "sum=num1+num2\n",
        "print(\"sum:\", sum)\n",
        "\n",
        "sub=num1-num2\n",
        "print(\"sub:\", sub)\n",
        "\n",
        "mul=num1*num2\n",
        "print(\"mul:\", mul)\n",
        "\n",
        "div=num1/num2\n",
        "print(\"div:\", div)"
      ],
      "metadata": {
        "colab": {
          "base_uri": "https://localhost:8080/",
          "height": 0
        },
        "id": "e5BgrBBm-8lB",
        "outputId": "1d854853-9602-45a0-9bc6-fdf50fa197c5"
      },
      "execution_count": 44,
      "outputs": [
        {
          "output_type": "stream",
          "name": "stdout",
          "text": [
            "enter first number:34\n",
            "enter second number:12\n",
            "\n",
            "Arithematic operations:\n",
            "sum: 46.0\n",
            "sub: 22.0\n",
            "mul: 408.0\n",
            "div: 2.8333333333333335\n"
          ]
        }
      ]
    },
    {
      "cell_type": "code",
      "source": [
        "x=6\n",
        "y=7\n",
        "print(x==y)\n",
        "print(x!=y)\n",
        "print(x>y)\n",
        "print(x<y)\n",
        "print(x>=y)\n",
        "print(x<=y)"
      ],
      "metadata": {
        "colab": {
          "base_uri": "https://localhost:8080/",
          "height": 0
        },
        "id": "WRd1vXzLBlUC",
        "outputId": "a49978b5-953e-42cc-82e6-7b0b6610324a"
      },
      "execution_count": 45,
      "outputs": [
        {
          "output_type": "stream",
          "name": "stdout",
          "text": [
            "False\n",
            "True\n",
            "False\n",
            "True\n",
            "False\n",
            "True\n"
          ]
        }
      ]
    },
    {
      "cell_type": "code",
      "source": [
        "a=\"321\"\n",
        "print(type(a) )\n",
        "a=int(a)\n",
        "print(type(a))\n",
        "a=float(a)\n",
        "print(type(a))"
      ],
      "metadata": {
        "colab": {
          "base_uri": "https://localhost:8080/",
          "height": 0
        },
        "id": "ex6sgd2RCDoT",
        "outputId": "c7051456-2698-4fd3-8d8f-c79906948ddd"
      },
      "execution_count": 46,
      "outputs": [
        {
          "output_type": "stream",
          "name": "stdout",
          "text": [
            "<class 'str'>\n",
            "<class 'int'>\n",
            "<class 'float'>\n"
          ]
        }
      ]
    },
    {
      "cell_type": "code",
      "source": [
        "a=[\"1\",\"2\",\"3\",\"4\"]\n",
        "print(\"\\n original list\",a)\n",
        "a=[int(x)]\n",
        "print(\"\\n integer list\",a)\n",
        "a=[float(x)]\n",
        "print(\"\\n float list\",a)\n",
        "a=[str(x)]\n",
        "print(\"\\n string list\",a)"
      ],
      "metadata": {
        "colab": {
          "base_uri": "https://localhost:8080/",
          "height": 0
        },
        "id": "8NMCWD5RDAKO",
        "outputId": "99067ffc-0c27-49d5-aac2-904f18489b5f"
      },
      "execution_count": 48,
      "outputs": [
        {
          "output_type": "stream",
          "name": "stdout",
          "text": [
            "\n",
            " original list ['1', '2', '3', '4']\n",
            "\n",
            " integer list [6]\n",
            "\n",
            " float list [6.0]\n",
            "\n",
            " string list ['6']\n"
          ]
        }
      ]
    },
    {
      "cell_type": "code",
      "source": [
        "num=int(input(\"enter a number:\"))\n",
        "if num >0 :\n",
        "  print(\"number is positive\")\n",
        "elif num==0:\n",
        "  print(\"number is zero\")\n",
        "else:\n",
        "  print(\"number is negative \")"
      ],
      "metadata": {
        "colab": {
          "base_uri": "https://localhost:8080/",
          "height": 0
        },
        "id": "DSmq7Q5IFQ-m",
        "outputId": "329acddb-9efc-49de-8285-7ac3a95c1c76"
      },
      "execution_count": 38,
      "outputs": [
        {
          "output_type": "stream",
          "name": "stdout",
          "text": [
            "enter a number:6\n",
            "number is positive\n"
          ]
        }
      ]
    },
    {
      "cell_type": "code",
      "source": [
        "for i in range(1,10):\n",
        "  print(i)"
      ],
      "metadata": {
        "colab": {
          "base_uri": "https://localhost:8080/",
          "height": 0
        },
        "id": "KLoQ_LtzGVkL",
        "outputId": "6c237518-fd86-4488-9153-3fbd75849ce7"
      },
      "execution_count": 39,
      "outputs": [
        {
          "output_type": "stream",
          "name": "stdout",
          "text": [
            "1\n",
            "2\n",
            "3\n",
            "4\n",
            "5\n",
            "6\n",
            "7\n",
            "8\n",
            "9\n"
          ]
        }
      ]
    },
    {
      "cell_type": "code",
      "source": [
        "sum_even=sum(i for i in range(1,51) if i%2 ==0 )\n",
        "print(\"sum of even numbers:\", sum_even)"
      ],
      "metadata": {
        "colab": {
          "base_uri": "https://localhost:8080/",
          "height": 0
        },
        "id": "Pplnc0otGuUh",
        "outputId": "a22c2141-ad97-45c6-cf82-b88409f5ff9b"
      },
      "execution_count": 40,
      "outputs": [
        {
          "output_type": "stream",
          "name": "stdout",
          "text": [
            "sum of even numbers: 650\n"
          ]
        }
      ]
    },
    {
      "cell_type": "code",
      "source": [
        "my_string=\"hello world\"\n",
        "reversed_string=\"\"\n",
        "print(\"original string:\", my_string)\n",
        "i=len(my_string)-1\n",
        "\n",
        "while i>=0:\n",
        "  reversed_string+=my_string[i]\n",
        "  i-=1\n",
        "print(\"reversed string:\", reversed_string)"
      ],
      "metadata": {
        "colab": {
          "base_uri": "https://localhost:8080/",
          "height": 0
        },
        "id": "_KjLyykeJUG2",
        "outputId": "6e387a8f-c328-41a3-c1aa-e36ca7254ac0"
      },
      "execution_count": 64,
      "outputs": [
        {
          "output_type": "stream",
          "name": "stdout",
          "text": [
            "original string: hello world\n",
            "reversed string: dlrow olleh\n"
          ]
        }
      ]
    },
    {
      "cell_type": "code",
      "source": [
        "num=int(input(\"enter the number\"))\n",
        "fact=1\n",
        "i=1\n",
        "while i <= num:\n",
        "    fact *=i\n",
        "    i=i+1\n",
        "print(\"the factorial of\",num,\"is\",fact)"
      ],
      "metadata": {
        "colab": {
          "base_uri": "https://localhost:8080/",
          "height": 0
        },
        "id": "ijBppxdwJvHl",
        "outputId": "9ad2422e-985d-4b0f-f19e-c0d2f155f00c"
      },
      "execution_count": 57,
      "outputs": [
        {
          "output_type": "stream",
          "name": "stdout",
          "text": [
            "enter the number5\n",
            "the factorial of 5 is 120\n"
          ]
        }
      ]
    }
  ]
}