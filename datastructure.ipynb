{
  "nbformat": 4,
  "nbformat_minor": 0,
  "metadata": {
    "colab": {
      "provenance": [],
      "authorship_tag": "ABX9TyPs2y1vGdDiXLl2wJgYkeNw",
      "include_colab_link": true
    },
    "kernelspec": {
      "name": "python3",
      "display_name": "Python 3"
    },
    "language_info": {
      "name": "python"
    }
  },
  "cells": [
    {
      "cell_type": "markdown",
      "metadata": {
        "id": "view-in-github",
        "colab_type": "text"
      },
      "source": [
        "<a href=\"https://colab.research.google.com/github/zuleka061/python-basics/blob/main/datastructure.ipynb\" target=\"_parent\"><img src=\"https://colab.research.google.com/assets/colab-badge.svg\" alt=\"Open In Colab\"/></a>"
      ]
    },
    {
      "cell_type": "markdown",
      "source": [
        "# Data types and structure"
      ],
      "metadata": {
        "id": "GpF72m73pMLd"
      }
    },
    {
      "cell_type": "markdown",
      "source": [
        "1. What are data structure and why are they important ?\n",
        "\n",
        "---> Data structure are ways to organize and store data in a program , so that it can be efficiently accessed , modified and manipulated.\n",
        "its is important in problem solving , scalability and writing effiecent program."
      ],
      "metadata": {
        "id": "uWJom87jU3Vz"
      }
    },
    {
      "cell_type": "markdown",
      "source": [
        "2. Explain the difference between mutable and immutable data types with example ?\n",
        "\n",
        "--> In mutable data types can be modified(change) after creation such as lists , dictionaries etc\n",
        "  In immutable data types cannot be modified after creation such as tuples , strings etc."
      ],
      "metadata": {
        "id": "cbR8dlG2VMKu"
      }
    },
    {
      "cell_type": "markdown",
      "source": [
        "3. What are main difference between lists and tuples ?\n",
        "\n",
        "  --> The main difference between lists and tuples in python are that lists are mutable and use a square brackets [ ] . while tuples are immutable and use parentheses ( )"
      ],
      "metadata": {
        "id": "KUZQWtTwVbeH"
      }
    },
    {
      "cell_type": "markdown",
      "source": [
        "4. Describe how dictoranies store data ?\n",
        "\n",
        "-->Dictionaries store data as key-value pairs, where each keys is unique and maps to a specific value."
      ],
      "metadata": {
        "id": "ZkhGgDt_VoQu"
      }
    },
    {
      "cell_type": "markdown",
      "source": [
        "5. Why might you see a set instead a list in Python ?\n",
        "\n",
        "-->We use a set instead of a list in python we need to store a collection of unique items and perform faster testing or remove duplicates."
      ],
      "metadata": {
        "id": "c6NeJH2JVy7e"
      }
    },
    {
      "cell_type": "markdown",
      "source": [
        "6.What is a string in python and how it is different from a list ?\n",
        "\n",
        "--> A string in Python is a sequences of character i.e is immutable , whereas list is a collection of items that can be modified."
      ],
      "metadata": {
        "id": "-3euhndpWQzO"
      }
    },
    {
      "cell_type": "markdown",
      "source": [
        "7. How to tuples ensure data integrity in Python ?\n",
        "\n",
        "--> Tuples ensure data integrity in Python by making it impossible to modify their contents after creation , which is useful for storing collections of items that should not be changeable ."
      ],
      "metadata": {
        "id": "SnjqDGvcWe31"
      }
    },
    {
      "cell_type": "markdown",
      "source": [
        "8.What is hash table and how does it relate to dictionaries in Python ?\n",
        "\n",
        "--> A hash table is a data structure that stores key-value pair using a hash function to map keys to indices , and dictionaries in Python are implemented as hash table."
      ],
      "metadata": {
        "id": "o197l2BFWwh2"
      }
    },
    {
      "cell_type": "markdown",
      "source": [
        "9. Can lists contain different data types in python ?\n",
        "\n",
        "==>yes , lists can contain different data types such as integers , strings and other lists ."
      ],
      "metadata": {
        "id": "gQi7ouq0XFpM"
      }
    },
    {
      "cell_type": "markdown",
      "source": [
        "10. Explain why strings are immutable in Python ?\n",
        "\n",
        "-->Strings in python are immutable because they cannot be changed in place ."
      ],
      "metadata": {
        "id": "EMSMlrJhXN9K"
      }
    },
    {
      "cell_type": "markdown",
      "source": [
        "11. What advantages do dictonaries offer over list for a certain task ?\n",
        "\n",
        "-->Dictionaries offers fast lookups with an average time complexity of O(1), store data as key-value pairs , and provide flexibility in data representation by allowing any immutable type as keys ."
      ],
      "metadata": {
        "id": "VDI-uM7yXliL"
      }
    },
    {
      "cell_type": "markdown",
      "source": [
        "12.Describe a scenario where using a tuple would be preferable over a list ?\n",
        "\n",
        "--> Tuples are preferable when representing a record or a constant collection of values that should not be changed , such as days of the week ."
      ],
      "metadata": {
        "id": "vUDnIUEBX9Je"
      }
    },
    {
      "cell_type": "markdown",
      "source": [
        "13.How do sets handle duplicate values in Python ?\n",
        "\n",
        "-->Sets automatically eliminate duplicate values , ensuring that only unique elements are stored."
      ],
      "metadata": {
        "id": "PTLtv0ZxYQfn"
      }
    },
    {
      "cell_type": "markdown",
      "source": [
        "14. How does the \"in\" keywords work differently for lists and dictionaries ?\n",
        "\n",
        "--> For lists , the \"in\" keywords checks if a value is present , while for dictionaries , it checks if a key is present."
      ],
      "metadata": {
        "id": "2zcsrKTHYoep"
      }
    },
    {
      "cell_type": "markdown",
      "source": [
        "15. Can you modify the elements of a tuple ? Explain why or why not ?\n",
        "\n",
        "-->No , tuples are immutable by design , and attempting to modify a tuple elements will raise a TypeError."
      ],
      "metadata": {
        "id": "f7_Dzw4XY4nq"
      }
    },
    {
      "cell_type": "markdown",
      "source": [
        "16. What is nested dictionaries , and give an example of its use case ?\n",
        "\n",
        "--> A nested dictionary is  a dictionary containing another dictionary as its value.It's useful for representing complex data structure .\n",
        "    ex: Student's grade in different subjects ."
      ],
      "metadata": {
        "id": "UbmXQUsTZGOO"
      }
    },
    {
      "cell_type": "markdown",
      "source": [
        "17. Describe the time complexity of accessing elements in a dictionaries ?\n",
        "\n",
        "--> The average  time complexity is O(1) and worst case time complexity is O(n). Where n is the number of keys in the dictionary ."
      ],
      "metadata": {
        "id": "DXJdvnDXZaqC"
      }
    },
    {
      "cell_type": "markdown",
      "source": [
        "18. In what situations are lists preferred over dictionaries?\n",
        "\n",
        "--> Lists are best for sequential data , while dictionaries are data retervial for specific identifiers ."
      ],
      "metadata": {
        "id": "ejH9ACpTZn7D"
      }
    },
    {
      "cell_type": "markdown",
      "source": [
        "19. Why are dictionaries considered unordered and how does that affect data retrieval ?\n",
        "\n",
        "-->Dictionaries are considered as an unordered collection of objects because in dictionary we can use any type of data type , but key is immutable type."
      ],
      "metadata": {
        "id": "fu8tt615Z4aQ"
      }
    },
    {
      "cell_type": "markdown",
      "source": [
        "20. Explain the different between a list and a dictionary in terms of data retrieval ?\n",
        "\n",
        "-->Lists retrieve data by index, whereas dictionaries retrieve data by key, providing faster lookups for key-based data retrieval."
      ],
      "metadata": {
        "id": "7l4Q_bINaIaZ"
      }
    },
    {
      "cell_type": "markdown",
      "source": [
        "**PRACTICAL PROGRAM**"
      ],
      "metadata": {
        "id": "l7Hs4790gjwD"
      }
    },
    {
      "cell_type": "markdown",
      "source": [
        "1. Write a code to create a string with your name and print it ."
      ],
      "metadata": {
        "id": "ND3EpVwKg1-h"
      }
    },
    {
      "cell_type": "code",
      "source": [
        "name=\"zuleka Shaikh\"\n",
        "print(name)"
      ],
      "metadata": {
        "colab": {
          "base_uri": "https://localhost:8080/"
        },
        "id": "hQq855cQsgA3",
        "outputId": "ff4203ff-b1d5-4d47-fa52-57eb2b5a40e4"
      },
      "execution_count": 204,
      "outputs": [
        {
          "output_type": "stream",
          "name": "stdout",
          "text": [
            "zuleka Shaikh\n"
          ]
        }
      ]
    },
    {
      "cell_type": "markdown",
      "source": [
        "2. Write a code to find the length of the string \" Hello Wold\"."
      ],
      "metadata": {
        "id": "a6TFbTFig0TA"
      }
    },
    {
      "cell_type": "code",
      "source": [
        "string='hello world'\n",
        "length=len(string)\n",
        "print(length)"
      ],
      "metadata": {
        "colab": {
          "base_uri": "https://localhost:8080/"
        },
        "id": "dNHke4jCsx8c",
        "outputId": "8f16ea63-6a15-4112-f30d-eb7618d83ca8"
      },
      "execution_count": 205,
      "outputs": [
        {
          "output_type": "stream",
          "name": "stdout",
          "text": [
            "11\n"
          ]
        }
      ]
    },
    {
      "cell_type": "markdown",
      "source": [
        "3.Write a code to slice the first 3 character from the string \"Python Programming\"."
      ],
      "metadata": {
        "id": "8N6d7BvYhkwf"
      }
    },
    {
      "cell_type": "code",
      "source": [
        "string='python program'\n",
        "sliced_string=string[:3]\n",
        "print(sliced_string)"
      ],
      "metadata": {
        "colab": {
          "base_uri": "https://localhost:8080/"
        },
        "id": "WIIqAX4hurgy",
        "outputId": "1d55ac86-e51c-4acd-acdd-5aa8b31f5e1f"
      },
      "execution_count": 206,
      "outputs": [
        {
          "output_type": "stream",
          "name": "stdout",
          "text": [
            "pyt\n"
          ]
        }
      ]
    },
    {
      "cell_type": "markdown",
      "source": [
        "4.Write a code to convert the string \"hello \" to uppercase."
      ],
      "metadata": {
        "id": "e2QHg0oLh3cD"
      }
    },
    {
      "cell_type": "code",
      "source": [
        "string=\"hello \"\n",
        "uppercase_string=string.upper()\n",
        "print(uppercase_string)"
      ],
      "metadata": {
        "colab": {
          "base_uri": "https://localhost:8080/"
        },
        "id": "oLqDyFaPvWiL",
        "outputId": "c800551e-afae-4243-b5dd-75d4b7f7c4c1"
      },
      "execution_count": 207,
      "outputs": [
        {
          "output_type": "stream",
          "name": "stdout",
          "text": [
            "HELLO \n"
          ]
        }
      ]
    },
    {
      "cell_type": "markdown",
      "source": [
        "5. Write a code to replace the word \"apple \" with \"orange \"in the string \" I like apple \"."
      ],
      "metadata": {
        "id": "vw67glBXiJrU"
      }
    },
    {
      "cell_type": "code",
      "source": [
        "string='I like apples'\n",
        "replaced_string=string.replace('apples','orange')\n",
        "print(replaced_string)"
      ],
      "metadata": {
        "colab": {
          "base_uri": "https://localhost:8080/"
        },
        "id": "i-rgSzI-vkDq",
        "outputId": "4af64ffe-4947-4917-87b5-49caf6d6d603"
      },
      "execution_count": 208,
      "outputs": [
        {
          "output_type": "stream",
          "name": "stdout",
          "text": [
            "I like orange\n"
          ]
        }
      ]
    },
    {
      "cell_type": "markdown",
      "source": [
        "6. Write a code to create a list with numbers 1 to 5 and print it ."
      ],
      "metadata": {
        "id": "ga2BhlS4iaXv"
      }
    },
    {
      "cell_type": "code",
      "source": [
        "num=[1,2,3,4,5]\n",
        "print(num)"
      ],
      "metadata": {
        "colab": {
          "base_uri": "https://localhost:8080/"
        },
        "id": "7Cv9m92hv1PH",
        "outputId": "7e98382b-69a2-4b6a-fdf7-98a679970955"
      },
      "execution_count": 209,
      "outputs": [
        {
          "output_type": "stream",
          "name": "stdout",
          "text": [
            "[1, 2, 3, 4, 5]\n"
          ]
        }
      ]
    },
    {
      "cell_type": "markdown",
      "source": [
        "7. Write a code to append the number 10 to the list [1,2,3,4 ]"
      ],
      "metadata": {
        "id": "hdFNHgskivDY"
      }
    },
    {
      "cell_type": "code",
      "source": [
        "num.append(10)\n",
        "print(num)"
      ],
      "metadata": {
        "colab": {
          "base_uri": "https://localhost:8080/"
        },
        "id": "4bqY4nDtv_K9",
        "outputId": "eecb3f03-11c8-4e0a-f4f5-bb51bba1f718"
      },
      "execution_count": 210,
      "outputs": [
        {
          "output_type": "stream",
          "name": "stdout",
          "text": [
            "[1, 2, 3, 4, 5, 10]\n"
          ]
        }
      ]
    },
    {
      "cell_type": "markdown",
      "source": [
        "8. Write a code to remove the number 3 from the list [1,2,3,4,5]."
      ],
      "metadata": {
        "id": "PVK5yWTPjC6F"
      }
    },
    {
      "cell_type": "code",
      "source": [
        "num.remove(3)\n",
        "print(num)"
      ],
      "metadata": {
        "colab": {
          "base_uri": "https://localhost:8080/"
        },
        "id": "9ze-PKXUwIbE",
        "outputId": "2b334e10-458c-4f74-b402-0944d67fe38c"
      },
      "execution_count": 211,
      "outputs": [
        {
          "output_type": "stream",
          "name": "stdout",
          "text": [
            "[1, 2, 4, 5, 10]\n"
          ]
        }
      ]
    },
    {
      "cell_type": "markdown",
      "source": [
        "9. Write a code to access the second element in the list ['a', 'b','c','d']"
      ],
      "metadata": {
        "id": "wSn2i2N1ja58"
      }
    },
    {
      "cell_type": "code",
      "source": [
        "letters=['a','b','c','d']\n",
        "second_letters= letters[1]\n",
        "print(second_letters)\n"
      ],
      "metadata": {
        "colab": {
          "base_uri": "https://localhost:8080/"
        },
        "id": "stwIgrotwQ5U",
        "outputId": "42189d99-e655-44c3-d211-084ba47d240c"
      },
      "execution_count": 212,
      "outputs": [
        {
          "output_type": "stream",
          "name": "stdout",
          "text": [
            "b\n"
          ]
        }
      ]
    },
    {
      "cell_type": "markdown",
      "source": [
        "10. Write a code to reverse the list [10,20,30,40,50]"
      ],
      "metadata": {
        "id": "aqablVe6jxI7"
      }
    },
    {
      "cell_type": "code",
      "source": [
        "num=[10,20,30,40,50]\n",
        "rev_num=num[::-1]\n",
        "print(rev_num)"
      ],
      "metadata": {
        "colab": {
          "base_uri": "https://localhost:8080/"
        },
        "id": "CW2aU0c5wuQi",
        "outputId": "0f09bc87-1b8a-4ff7-c330-be6719d8018e"
      },
      "execution_count": 213,
      "outputs": [
        {
          "output_type": "stream",
          "name": "stdout",
          "text": [
            "[50, 40, 30, 20, 10]\n"
          ]
        }
      ]
    },
    {
      "cell_type": "markdown",
      "source": [
        "11. Write a code to create a tuple with the elements 100,200,300 and print it ."
      ],
      "metadata": {
        "id": "ZuHiPS7YkCdW"
      }
    },
    {
      "cell_type": "code",
      "source": [
        "num=(100,200,300)\n",
        "print(num)"
      ],
      "metadata": {
        "colab": {
          "base_uri": "https://localhost:8080/"
        },
        "id": "lsCfT3x-xExU",
        "outputId": "f37a44e9-7570-4ce5-940f-3041e439efb1"
      },
      "execution_count": 214,
      "outputs": [
        {
          "output_type": "stream",
          "name": "stdout",
          "text": [
            "(100, 200, 300)\n"
          ]
        }
      ]
    },
    {
      "cell_type": "markdown",
      "source": [
        "12. Write a code to access the second last elements of the tuple ['red', 'green,'blue', 'yellow']\n"
      ],
      "metadata": {
        "id": "NfU2mshckSzL"
      }
    },
    {
      "cell_type": "code",
      "source": [
        "colors=('red','green','blue','yellow')\n",
        "second_last_element=colors[-2]\n",
        "print(second_last_element)"
      ],
      "metadata": {
        "colab": {
          "base_uri": "https://localhost:8080/"
        },
        "id": "Cr1fFE-6xKLQ",
        "outputId": "7f0fab9b-350f-44f1-db7e-bc2eb99e5e5b"
      },
      "execution_count": 215,
      "outputs": [
        {
          "output_type": "stream",
          "name": "stdout",
          "text": [
            "blue\n"
          ]
        }
      ]
    },
    {
      "cell_type": "markdown",
      "source": [
        "13.write a code to find the minimum number in the tuple (10, 20,5,15)"
      ],
      "metadata": {
        "id": "B6xI4f18kx3c"
      }
    },
    {
      "cell_type": "code",
      "source": [
        "num=(10,20,5,15)\n",
        "min_num=min(num)\n",
        "print(min_num)"
      ],
      "metadata": {
        "colab": {
          "base_uri": "https://localhost:8080/"
        },
        "id": "tuxdZQXzxnos",
        "outputId": "b09f1e9b-7d57-461c-8a5f-303ec84be43b"
      },
      "execution_count": 216,
      "outputs": [
        {
          "output_type": "stream",
          "name": "stdout",
          "text": [
            "5\n"
          ]
        }
      ]
    },
    {
      "cell_type": "markdown",
      "source": [
        "14. Write a code to find the index of the element 'cat' in the tuple ('dog','cat','rabbit')"
      ],
      "metadata": {
        "id": "n65-gRyjlJ3E"
      }
    },
    {
      "cell_type": "code",
      "source": [
        "animals=('dog','cat','rabbit')\n",
        "cat_index=animals.index('cat')\n",
        "print(cat_index)\n"
      ],
      "metadata": {
        "colab": {
          "base_uri": "https://localhost:8080/"
        },
        "id": "vv2XJ86tyBBK",
        "outputId": "f07fbd80-0b27-4a4b-e93d-b9cfd17303ff"
      },
      "execution_count": 217,
      "outputs": [
        {
          "output_type": "stream",
          "name": "stdout",
          "text": [
            "1\n"
          ]
        }
      ]
    },
    {
      "cell_type": "markdown",
      "source": [
        "15.Write a code to create a tuple containing three different fruits and check if 'kiwi' is in it"
      ],
      "metadata": {
        "id": "ugA_WyxylmO-"
      }
    },
    {
      "cell_type": "code",
      "source": [
        "fruit=(\"apple\",\"mango\",\"kiwi\",\"cherry\")\n",
        "print('kiwi' in fruit)"
      ],
      "metadata": {
        "colab": {
          "base_uri": "https://localhost:8080/"
        },
        "id": "_wsbNc8uybKE",
        "outputId": "ada61297-dc46-4ae5-b9f6-f1dfee68ea21"
      },
      "execution_count": 218,
      "outputs": [
        {
          "output_type": "stream",
          "name": "stdout",
          "text": [
            "True\n"
          ]
        }
      ]
    },
    {
      "cell_type": "markdown",
      "source": [
        "16. Write a code to create a set with the elements 'a','b','c' and print it ."
      ],
      "metadata": {
        "id": "VeaZOFwTmgJ5"
      }
    },
    {
      "cell_type": "code",
      "source": [
        "my_set={'a','b','c'}\n",
        "print(my_set)"
      ],
      "metadata": {
        "colab": {
          "base_uri": "https://localhost:8080/"
        },
        "id": "UfcFu06rzM8J",
        "outputId": "ccf799e2-3b43-4692-f1d7-15fad0ed1520"
      },
      "execution_count": 219,
      "outputs": [
        {
          "output_type": "stream",
          "name": "stdout",
          "text": [
            "{'c', 'a', 'b'}\n"
          ]
        }
      ]
    },
    {
      "cell_type": "markdown",
      "source": [
        "17. Write a code to clear all elements from the set {1,2,3,4,5}"
      ],
      "metadata": {
        "id": "KXh-nFHtnTM_"
      }
    },
    {
      "cell_type": "code",
      "source": [
        "num={1,2,3,4,5}\n",
        "num.clear()\n",
        "print(num)\n"
      ],
      "metadata": {
        "colab": {
          "base_uri": "https://localhost:8080/"
        },
        "id": "lS6Xg2-Vzfn9",
        "outputId": "b4a6d7fc-f507-478a-868f-fc49edaa9331"
      },
      "execution_count": 220,
      "outputs": [
        {
          "output_type": "stream",
          "name": "stdout",
          "text": [
            "set()\n"
          ]
        }
      ]
    },
    {
      "cell_type": "markdown",
      "source": [
        "18. Write a code to remove the element 4 from the set {1,2,3,4 }"
      ],
      "metadata": {
        "id": "n3ZrWJ67nZOa"
      }
    },
    {
      "cell_type": "code",
      "source": [
        "num={1,2,3,4,5}\n",
        "num.remove(4)\n",
        "print(num)"
      ],
      "metadata": {
        "colab": {
          "base_uri": "https://localhost:8080/"
        },
        "id": "kt8JEmwKz7OD",
        "outputId": "09379b0c-2a30-4cca-f78b-92c0e0f69753"
      },
      "execution_count": 221,
      "outputs": [
        {
          "output_type": "stream",
          "name": "stdout",
          "text": [
            "{1, 2, 3, 5}\n"
          ]
        }
      ]
    },
    {
      "cell_type": "markdown",
      "source": [
        "19. Write a code to find the union of two sets {1,2,3} and {3,4,5}."
      ],
      "metadata": {
        "id": "k_6Bjp5TnjQc"
      }
    },
    {
      "cell_type": "code",
      "source": [
        "set1={1,2,3}\n",
        "set2={3,4,5}\n",
        "union_set=set1.union(set2)\n",
        "print(union_set)"
      ],
      "metadata": {
        "colab": {
          "base_uri": "https://localhost:8080/"
        },
        "id": "7AhEU48m0QAQ",
        "outputId": "9a27043b-1ef6-4051-e358-1bbc0da6016e"
      },
      "execution_count": 222,
      "outputs": [
        {
          "output_type": "stream",
          "name": "stdout",
          "text": [
            "{1, 2, 3, 4, 5}\n"
          ]
        }
      ]
    },
    {
      "cell_type": "markdown",
      "source": [
        "20. Write a code to find the intersection of two sets {1,2,3}and {2,3,4}."
      ],
      "metadata": {
        "id": "cEPl8Psfnn9Y"
      }
    },
    {
      "cell_type": "code",
      "source": [
        "set1={1,2,3}\n",
        "set2={2,3,4}\n",
        "intersection_set=set1.intersection(set2)\n",
        "print(intersection_set)"
      ],
      "metadata": {
        "colab": {
          "base_uri": "https://localhost:8080/"
        },
        "id": "b4YzGNOK0auW",
        "outputId": "2582bca1-5f96-42e9-9aea-dfe9f89ca7f0"
      },
      "execution_count": 223,
      "outputs": [
        {
          "output_type": "stream",
          "name": "stdout",
          "text": [
            "{2, 3}\n"
          ]
        }
      ]
    },
    {
      "cell_type": "markdown",
      "source": [
        "21. Write a code to create a dictionary with the keys \"name\", \"age\", and \"city\" , and print it ."
      ],
      "metadata": {
        "id": "2H3UPbfCnrsC"
      }
    },
    {
      "cell_type": "code",
      "source": [
        "person={'name':'zuleka','age':20,'city':'Hyderabad'}\n",
        "print(person)"
      ],
      "metadata": {
        "colab": {
          "base_uri": "https://localhost:8080/"
        },
        "id": "ubE-9_kg0keZ",
        "outputId": "b9b8d64b-1fbf-4041-cc01-638d50970f44"
      },
      "execution_count": 224,
      "outputs": [
        {
          "output_type": "stream",
          "name": "stdout",
          "text": [
            "{'name': 'zuleka', 'age': 20, 'city': 'Hyderabad'}\n"
          ]
        }
      ]
    },
    {
      "cell_type": "markdown",
      "source": [
        "22.Write a code to add a new key-value pair \"country\": USA to the dictioary {'name':'john','age':25}"
      ],
      "metadata": {
        "id": "n2afQ6efn-hZ"
      }
    },
    {
      "cell_type": "code",
      "source": [
        "person={'name':'john','age':25}\n",
        "person['country']='USA'\n",
        "print(person)"
      ],
      "metadata": {
        "colab": {
          "base_uri": "https://localhost:8080/"
        },
        "id": "J6aX1Okk1B8y",
        "outputId": "506268d3-349a-4d5e-bf0f-b6bd9fdc153f"
      },
      "execution_count": 225,
      "outputs": [
        {
          "output_type": "stream",
          "name": "stdout",
          "text": [
            "{'name': 'john', 'age': 25, 'country': 'USA'}\n"
          ]
        }
      ]
    },
    {
      "cell_type": "markdown",
      "source": [
        "23.Write a code to access the value associated with the key 'name' in the dictionary {'name':'john','age':30}"
      ],
      "metadata": {
        "id": "bPn_5Lp0n40P"
      }
    },
    {
      "cell_type": "code",
      "source": [
        "person={'name':'Alice','age':30}\n",
        "name=person['name']\n",
        "print(name)"
      ],
      "metadata": {
        "colab": {
          "base_uri": "https://localhost:8080/"
        },
        "id": "rwpeBR4C16o7",
        "outputId": "1e9d4e59-81bd-4963-a99a-7a3b7b4c13e3"
      },
      "execution_count": 226,
      "outputs": [
        {
          "output_type": "stream",
          "name": "stdout",
          "text": [
            "Alice\n"
          ]
        }
      ]
    },
    {
      "cell_type": "markdown",
      "source": [
        "24.Write a code to remove the key \"age\" from the dictionary {'name':'bob','age':22,'city':'new york'}"
      ],
      "metadata": {
        "id": "RNXDiMtcoDUJ"
      }
    },
    {
      "cell_type": "code",
      "source": [
        "person={'name':'Bob','age':22, 'city':'New York'}\n",
        "person.pop('age')\n",
        "print(person)"
      ],
      "metadata": {
        "colab": {
          "base_uri": "https://localhost:8080/"
        },
        "id": "z7V-eZTr2bxv",
        "outputId": "a6d15d11-1303-43dc-822d-a7097e800006"
      },
      "execution_count": 227,
      "outputs": [
        {
          "output_type": "stream",
          "name": "stdout",
          "text": [
            "{'name': 'Bob', 'city': 'New York'}\n"
          ]
        }
      ]
    },
    {
      "cell_type": "markdown",
      "source": [
        "25.Write a code to check if the key \"city\" exists in the dictionary {'name':Alice', 'city':'paris'}"
      ],
      "metadata": {
        "id": "YcTxMPv7oIrt"
      }
    },
    {
      "cell_type": "code",
      "source": [
        "person={'name':'Alice','age':30, 'city':'Paris'}\n",
        "city_present='city' in person\n",
        "print(city_present)"
      ],
      "metadata": {
        "colab": {
          "base_uri": "https://localhost:8080/"
        },
        "id": "fEJSBv6G31cN",
        "outputId": "365107d4-be3c-40ff-f823-6505de65405c"
      },
      "execution_count": 228,
      "outputs": [
        {
          "output_type": "stream",
          "name": "stdout",
          "text": [
            "True\n"
          ]
        }
      ]
    },
    {
      "cell_type": "markdown",
      "source": [
        "26. Write a code to create a list ,tuple, and dictionary and pint them all."
      ],
      "metadata": {
        "id": "_g7EHxIooOCs"
      }
    },
    {
      "cell_type": "code",
      "source": [
        "my_list=[1,2,3,4,5]\n",
        "my_tuple=(10,20,30)\n",
        "my_dict={'name':'zuleka','age':20}\n",
        "print(my_list)\n",
        "print(my_tuple)\n",
        "print(my_dict)"
      ],
      "metadata": {
        "colab": {
          "base_uri": "https://localhost:8080/"
        },
        "id": "DGjXEEcu4afU",
        "outputId": "51366f7b-6382-4c03-dcbc-8a2171dc4007"
      },
      "execution_count": 229,
      "outputs": [
        {
          "output_type": "stream",
          "name": "stdout",
          "text": [
            "[1, 2, 3, 4, 5]\n",
            "(10, 20, 30)\n",
            "{'name': 'zuleka', 'age': 20}\n"
          ]
        }
      ]
    },
    {
      "cell_type": "markdown",
      "source": [
        "27. Write a code to create a list of 5 random numbers between 1 and 100 ,sort it in ascending order, and print the result."
      ],
      "metadata": {
        "id": "_xHNRqvzoUiV"
      }
    },
    {
      "cell_type": "code",
      "source": [
        "import random\n",
        "random_num=random.sample(range(1,101),5)\n",
        "random_num.sort()\n",
        "print(random_num)"
      ],
      "metadata": {
        "colab": {
          "base_uri": "https://localhost:8080/"
        },
        "id": "2qbF223V43mS",
        "outputId": "c37c3aed-1c62-4ea3-c230-c8915111a543"
      },
      "execution_count": 230,
      "outputs": [
        {
          "output_type": "stream",
          "name": "stdout",
          "text": [
            "[18, 41, 54, 62, 81]\n"
          ]
        }
      ]
    },
    {
      "cell_type": "markdown",
      "source": [
        "28. create a list with strings and print the element at the third index."
      ],
      "metadata": {
        "id": "H2f-JtE3eQX-"
      }
    },
    {
      "cell_type": "code",
      "source": [
        "string_list =[\"apple\",\"banana\",\"mango\",\"cherry\"]\n",
        "print(string_list[2])"
      ],
      "metadata": {
        "colab": {
          "base_uri": "https://localhost:8080/"
        },
        "id": "5edhL2pVefNj",
        "outputId": "2d76fe27-2fc9-4e40-b029-f3d76bdd17ac"
      },
      "execution_count": 231,
      "outputs": [
        {
          "output_type": "stream",
          "name": "stdout",
          "text": [
            "mango\n"
          ]
        }
      ]
    },
    {
      "cell_type": "markdown",
      "source": [
        "29. combine two dictionaries into one and print the result ."
      ],
      "metadata": {
        "id": "Fn6FL_ZufBX5"
      }
    },
    {
      "cell_type": "code",
      "source": [
        "dict1={\"a\":1,\"b\":2}\n",
        "dict2={\"c\":3,\"d\":4}\n",
        "dict1.update(dict2)\n",
        "print(dict1)"
      ],
      "metadata": {
        "colab": {
          "base_uri": "https://localhost:8080/"
        },
        "id": "POZFJ_wgfeNe",
        "outputId": "ea1d7bfc-45aa-45a2-e6d8-1fec63f55640"
      },
      "execution_count": 232,
      "outputs": [
        {
          "output_type": "stream",
          "name": "stdout",
          "text": [
            "{'a': 1, 'b': 2, 'c': 3, 'd': 4}\n"
          ]
        }
      ]
    },
    {
      "cell_type": "markdown",
      "source": [
        "30. Convert a list of string into a set."
      ],
      "metadata": {
        "id": "FRPf8267f6Fs"
      }
    },
    {
      "cell_type": "code",
      "source": [
        "string_list=[\"apple\",\"banana\",\"cherry\",\"mango\"]\n",
        "string_set=set(string_list)\n",
        "print(string_set)"
      ],
      "metadata": {
        "colab": {
          "base_uri": "https://localhost:8080/"
        },
        "id": "MDtGd73_gCo2",
        "outputId": "b0734459-a0c4-494e-8673-526a599b85d1"
      },
      "execution_count": 233,
      "outputs": [
        {
          "output_type": "stream",
          "name": "stdout",
          "text": [
            "{'cherry', 'apple', 'banana', 'mango'}\n"
          ]
        }
      ]
    }
  ]
}