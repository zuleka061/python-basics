{
  "nbformat": 4,
  "nbformat_minor": 0,
  "metadata": {
    "colab": {
      "provenance": [],
      "authorship_tag": "ABX9TyPs2y1vGdDiXLl2wJgYkeNw",
      "include_colab_link": true
    },
    "kernelspec": {
      "name": "python3",
      "display_name": "Python 3"
    },
    "language_info": {
      "name": "python"
    }
  },
  "cells": [
    {
      "cell_type": "markdown",
      "metadata": {
        "id": "view-in-github",
        "colab_type": "text"
      },
      "source": [
        "<a href=\"https://colab.research.google.com/github/zuleka061/python-basics/blob/main/datastructure.ipynb\" target=\"_parent\"><img src=\"https://colab.research.google.com/assets/colab-badge.svg\" alt=\"Open In Colab\"/></a>"
      ]
    },
    {
      "cell_type": "markdown",
      "source": [
        "# Data types and structure"
      ],
      "metadata": {
        "id": "GpF72m73pMLd"
      }
    },
    {
      "cell_type": "markdown",
      "source": [
        "1. What are data structure and why are they important ?\n",
        "\n",
        "---> Data structure are ways to organize and store data in a program , so that it can be efficiently accessed , modified and manipulated.\n",
        "its is important in problem solving , scalability and writing effiecent program."
      ],
      "metadata": {
        "id": "uWJom87jU3Vz"
      }
    },
    {
      "cell_type": "markdown",
      "source": [
        "2. Explain the difference between mutable and immutable data types with example ?\n",
        "\n",
        "--> In mutable data types can be modified(change) after creation such as lists , dictionaries etc\n",
        "  In immutable data types cannot be modified after creation such as tuples , strings etc."
      ],
      "metadata": {
        "id": "cbR8dlG2VMKu"
      }
    },
    {
      "cell_type": "markdown",
      "source": [
        "3. What are main difference between lists and tuples ?\n",
        "\n",
        "  --> The main difference between lists and tuples in python are that lists are mutable and use a square brackets [ ] . while tuples are immutable and use parentheses ( )"
      ],
      "metadata": {
        "id": "KUZQWtTwVbeH"
      }
    },
    {
      "cell_type": "markdown",
      "source": [
        "4. Describe how dictoranies store data ?\n",
        "\n",
        "-->Dictionaries store data as key-value pairs, where each keys is unique and maps to a specific value."
      ],
      "metadata": {
        "id": "ZkhGgDt_VoQu"
      }
    },
    {
      "cell_type": "markdown",
      "source": [
        "5. Why might you see a set instead a list in Python ?\n",
        "\n",
        "-->We use a set instead of a list in python we need to store a collection of unique items and perform faster testing or remove duplicates."
      ],
      "metadata": {
        "id": "c6NeJH2JVy7e"
      }
    },
    {
      "cell_type": "markdown",
      "source": [
        "6.What is a string in python and how it is different from a list ?\n",
        "\n",
        "--> A string in Python is a sequences of character i.e is immutable , whereas list is a collection of items that can be modified."
      ],
      "metadata": {
        "id": "-3euhndpWQzO"
      }
    },
    {
      "cell_type": "markdown",
      "source": [
        "7. How to tuples ensure data integrity in Python ?\n",
        "\n",
        "--> Tuples ensure data integrity in Python by making it impossible to modify their contents after creation , which is useful for storing collections of items that should not be changeable ."
      ],
      "metadata": {
        "id": "SnjqDGvcWe31"
      }
    },
    {
      "cell_type": "markdown",
      "source": [
        "8.What is hash table and how does it relate to dictionaries in Python ?\n",
        "\n",
        "--> A hash table is a data structure that stores key-value pair using a hash function to map keys to indices , and dictionaries in Python are implemented as hash table."
      ],
      "metadata": {
        "id": "o197l2BFWwh2"
      }
    },
    {
      "cell_type": "markdown",
      "source": [
        "9. Can lists contain different data types in python ?\n",
        "\n",
        "==>yes , lists can contain different data types such as integers , strings and other lists ."
      ],
      "metadata": {
        "id": "gQi7ouq0XFpM"
      }
    },
    {
      "cell_type": "markdown",
      "source": [
        "10. Explain why strings are immutable in Python ?\n",
        "\n",
        "-->Strings in python are immutable because they cannot be changed in place ."
      ],
      "metadata": {
        "id": "EMSMlrJhXN9K"
      }
    },
    {
      "cell_type": "markdown",
      "source": [
        "11. What advantages do dictonaries offer over list for a certain task ?\n",
        "\n",
        "-->Dictionaries offers fast lookups with an average time complexity of O(1), store data as key-value pairs , and provide flexibility in data representation by allowing any immutable type as keys ."
      ],
      "metadata": {
        "id": "VDI-uM7yXliL"
      }
    },
    {
      "cell_type": "markdown",
      "source": [
        "12.Describe a scenario where using a tuple would be preferable over a list ?\n",
        "\n",
        "--> Tuples are preferable when representing a record or a constant collection of values that should not be changed , such as days of the week ."
      ],
      "metadata": {
        "id": "vUDnIUEBX9Je"
      }
    },
    {
      "cell_type": "markdown",
      "source": [
        "13.How do sets handle duplicate values in Python ?\n",
        "\n",
        "-->Sets automatically eliminate duplicate values , ensuring that only unique elements are stored."
      ],
      "metadata": {
        "id": "PTLtv0ZxYQfn"
      }
    },
    {
      "cell_type": "markdown",
      "source": [
        "14. How does the \"in\" keywords work differently for lists and dictionaries ?\n",
        "\n",
        "--> For lists , the \"in\" keywords checks if a value is present , while for dictionaries , it checks if a key is present."
      ],
      "metadata": {
        "id": "2zcsrKTHYoep"
      }
    },
    {
      "cell_type": "markdown",
      "source": [
        "15. Can you modify the elements of a tuple ? Explain why or why not ?\n",
        "\n",
        "-->No , tuples are immutable by design , and attempting to modify a tuple elements will raise a TypeError."
      ],
      "metadata": {
        "id": "f7_Dzw4XY4nq"
      }
    },
    {
      "cell_type": "markdown",
      "source": [
        "16. What is nested dictionaries , and give an example of its use case ?\n",
        "\n",
        "--> A nested dictionary is  a dictionary containing another dictionary as its value.It's useful for representing complex data structure .\n",
        "    ex: Student's grade in different subjects ."
      ],
      "metadata": {
        "id": "UbmXQUsTZGOO"
      }
    },
    {
      "cell_type": "markdown",
      "source": [
        "17. Describe the time complexity of accessing elements in a dictionaries ?\n",
        "\n",
        "--> The average  time complexity is O(1) and worst case time complexity is O(n). Where n is the number of keys in the dictionary ."
      ],
      "metadata": {
        "id": "DXJdvnDXZaqC"
      }
    },
    {
      "cell_type": "markdown",
      "source": [
        "18. In what situations are lists preferred over dictionaries?\n",
        "\n",
        "--> Lists are best for sequential data , while dictionaries are data retervial for specific identifiers ."
      ],
      "metadata": {
        "id": "ejH9ACpTZn7D"
      }
    },
    {
      "cell_type": "markdown",
      "source": [
        "19. Why are dictionaries considered unordered and how does that affect data retrieval ?\n",
        "\n",
        "-->Dictionaries are considered as an unordered collection of objects because in dictionary we can use any type of data type , but key is immutable type."
      ],
      "metadata": {
        "id": "fu8tt615Z4aQ"
      }
    },
    {
      "cell_type": "markdown",
      "source": [
        "20. Explain the different between a list and a dictionary in terms of data retrieval ?\n",
        "\n",
        "-->Lists retrieve data by index, whereas dictionaries retrieve data by key, providing faster lookups for key-based data retrieval."
      ],
      "metadata": {
        "id": "7l4Q_bINaIaZ"
      }
    },
    {
      "cell_type": "markdown",
      "source": [
        "**PRACTICAL PROGRAM**"
      ],
      "metadata": {
        "id": "l7Hs4790gjwD"
      }
    },
    {
      "cell_type": "markdown",
      "source": [
        "1. Write a code to create a string with your name and print it ."
      ],
      "metadata": {
        "id": "ND3EpVwKg1-h"
      }
    },
    {
      "cell_type": "code",
      "source": [
        "name=\"zuleka Shaikh\"\n",
        "print(name)"
      ],
      "metadata": {
        "colab": {
          "base_uri": "https://localhost:8080/"
        },
        "id": "hQq855cQsgA3",
        "outputId": "17badd25-6bad-48a0-ddb4-5b0627061097"
      },
      "execution_count": 234,
      "outputs": [
        {
          "output_type": "stream",
          "name": "stdout",
          "text": [
            "zuleka Shaikh\n"
          ]
        }
      ]
    },
    {
      "cell_type": "markdown",
      "source": [
        "2. Write a code to find the length of the string \" Hello Wold\"."
      ],
      "metadata": {
        "id": "a6TFbTFig0TA"
      }
    },
    {
      "cell_type": "code",
      "source": [
        "string='hello world'\n",
        "length=len(string)\n",
        "print(length)"
      ],
      "metadata": {
        "colab": {
          "base_uri": "https://localhost:8080/"
        },
        "id": "dNHke4jCsx8c",
        "outputId": "a7418955-29e9-4e50-9a42-1ecde148f752"
      },
      "execution_count": 235,
      "outputs": [
        {
          "output_type": "stream",
          "name": "stdout",
          "text": [
            "11\n"
          ]
        }
      ]
    },
    {
      "cell_type": "markdown",
      "source": [
        "3.Write a code to slice the first 3 character from the string \"Python Programming\"."
      ],
      "metadata": {
        "id": "8N6d7BvYhkwf"
      }
    },
    {
      "cell_type": "code",
      "source": [
        "string='python program'\n",
        "sliced_string=string[:3]\n",
        "print(sliced_string)"
      ],
      "metadata": {
        "colab": {
          "base_uri": "https://localhost:8080/"
        },
        "id": "WIIqAX4hurgy",
        "outputId": "0e5d26c8-9091-4c75-f1d2-533755d6b6fd"
      },
      "execution_count": 236,
      "outputs": [
        {
          "output_type": "stream",
          "name": "stdout",
          "text": [
            "pyt\n"
          ]
        }
      ]
    },
    {
      "cell_type": "markdown",
      "source": [
        "4.Write a code to convert the string \"hello \" to uppercase."
      ],
      "metadata": {
        "id": "e2QHg0oLh3cD"
      }
    },
    {
      "cell_type": "code",
      "source": [
        "string=\"hello \"\n",
        "uppercase_string=string.upper()\n",
        "print(uppercase_string)"
      ],
      "metadata": {
        "colab": {
          "base_uri": "https://localhost:8080/"
        },
        "id": "oLqDyFaPvWiL",
        "outputId": "766625a0-66d3-4583-bec1-3aeaaeca82cb"
      },
      "execution_count": 237,
      "outputs": [
        {
          "output_type": "stream",
          "name": "stdout",
          "text": [
            "HELLO \n"
          ]
        }
      ]
    },
    {
      "cell_type": "markdown",
      "source": [
        "5. Write a code to replace the word \"apple \" with \"orange \"in the string \" I like apple \"."
      ],
      "metadata": {
        "id": "vw67glBXiJrU"
      }
    },
    {
      "cell_type": "code",
      "source": [
        "string='I like apples'\n",
        "replaced_string=string.replace('apples','orange')\n",
        "print(replaced_string)"
      ],
      "metadata": {
        "colab": {
          "base_uri": "https://localhost:8080/"
        },
        "id": "i-rgSzI-vkDq",
        "outputId": "50461011-0878-4833-e656-c73eda0e3093"
      },
      "execution_count": 238,
      "outputs": [
        {
          "output_type": "stream",
          "name": "stdout",
          "text": [
            "I like orange\n"
          ]
        }
      ]
    },
    {
      "cell_type": "markdown",
      "source": [
        "6. Write a code to create a list with numbers 1 to 5 and print it ."
      ],
      "metadata": {
        "id": "ga2BhlS4iaXv"
      }
    },
    {
      "cell_type": "code",
      "source": [
        "num=[1,2,3,4,5]\n",
        "print(num)"
      ],
      "metadata": {
        "colab": {
          "base_uri": "https://localhost:8080/"
        },
        "id": "7Cv9m92hv1PH",
        "outputId": "70ab184b-9787-45f8-c4f6-1a902c61ac3a"
      },
      "execution_count": 239,
      "outputs": [
        {
          "output_type": "stream",
          "name": "stdout",
          "text": [
            "[1, 2, 3, 4, 5]\n"
          ]
        }
      ]
    },
    {
      "cell_type": "markdown",
      "source": [
        "7. Write a code to append the number 10 to the list [1,2,3,4 ]"
      ],
      "metadata": {
        "id": "hdFNHgskivDY"
      }
    },
    {
      "cell_type": "code",
      "source": [
        "num.append(10)\n",
        "print(num)"
      ],
      "metadata": {
        "colab": {
          "base_uri": "https://localhost:8080/"
        },
        "id": "4bqY4nDtv_K9",
        "outputId": "4db15615-2b82-4779-f8f3-c54d915ed3f6"
      },
      "execution_count": 240,
      "outputs": [
        {
          "output_type": "stream",
          "name": "stdout",
          "text": [
            "[1, 2, 3, 4, 5, 10]\n"
          ]
        }
      ]
    },
    {
      "cell_type": "markdown",
      "source": [
        "8. Write a code to remove the number 3 from the list [1,2,3,4,5]."
      ],
      "metadata": {
        "id": "PVK5yWTPjC6F"
      }
    },
    {
      "cell_type": "code",
      "source": [
        "num.remove(3)\n",
        "print(num)"
      ],
      "metadata": {
        "colab": {
          "base_uri": "https://localhost:8080/"
        },
        "id": "9ze-PKXUwIbE",
        "outputId": "1ec294d8-f291-45f0-d324-5d4e275c8708"
      },
      "execution_count": 241,
      "outputs": [
        {
          "output_type": "stream",
          "name": "stdout",
          "text": [
            "[1, 2, 4, 5, 10]\n"
          ]
        }
      ]
    },
    {
      "cell_type": "markdown",
      "source": [
        "9. Write a code to access the second element in the list ['a', 'b','c','d']"
      ],
      "metadata": {
        "id": "wSn2i2N1ja58"
      }
    },
    {
      "cell_type": "code",
      "source": [
        "letters=['a','b','c','d']\n",
        "second_letters= letters[1]\n",
        "print(second_letters)\n"
      ],
      "metadata": {
        "colab": {
          "base_uri": "https://localhost:8080/"
        },
        "id": "stwIgrotwQ5U",
        "outputId": "63c4c923-2287-4c38-b245-c1fb7e173c71"
      },
      "execution_count": 242,
      "outputs": [
        {
          "output_type": "stream",
          "name": "stdout",
          "text": [
            "b\n"
          ]
        }
      ]
    },
    {
      "cell_type": "markdown",
      "source": [
        "10. Write a code to reverse the list [10,20,30,40,50]"
      ],
      "metadata": {
        "id": "aqablVe6jxI7"
      }
    },
    {
      "cell_type": "code",
      "source": [
        "num=[10,20,30,40,50]\n",
        "rev_num=num[::-1]\n",
        "print(rev_num)"
      ],
      "metadata": {
        "colab": {
          "base_uri": "https://localhost:8080/"
        },
        "id": "CW2aU0c5wuQi",
        "outputId": "77cc44b1-25be-4d16-f84e-32f291739802"
      },
      "execution_count": 243,
      "outputs": [
        {
          "output_type": "stream",
          "name": "stdout",
          "text": [
            "[50, 40, 30, 20, 10]\n"
          ]
        }
      ]
    },
    {
      "cell_type": "markdown",
      "source": [
        "11. Write a code to create a tuple with the elements 100,200,300 and print it ."
      ],
      "metadata": {
        "id": "ZuHiPS7YkCdW"
      }
    },
    {
      "cell_type": "code",
      "source": [
        "num=(100,200,300)\n",
        "print(num)"
      ],
      "metadata": {
        "colab": {
          "base_uri": "https://localhost:8080/"
        },
        "id": "lsCfT3x-xExU",
        "outputId": "bd780034-a0d1-491d-a3c8-0f7fc1e2234e"
      },
      "execution_count": 244,
      "outputs": [
        {
          "output_type": "stream",
          "name": "stdout",
          "text": [
            "(100, 200, 300)\n"
          ]
        }
      ]
    },
    {
      "cell_type": "markdown",
      "source": [
        "12. Write a code to access the second last elements of the tuple ['red', 'green,'blue', 'yellow']\n"
      ],
      "metadata": {
        "id": "NfU2mshckSzL"
      }
    },
    {
      "cell_type": "code",
      "source": [
        "colors=('red','green','blue','yellow')\n",
        "second_last_element=colors[-2]\n",
        "print(second_last_element)"
      ],
      "metadata": {
        "colab": {
          "base_uri": "https://localhost:8080/"
        },
        "id": "Cr1fFE-6xKLQ",
        "outputId": "e0c9faab-3a6c-4eb0-91a4-3c4557bfcef6"
      },
      "execution_count": 245,
      "outputs": [
        {
          "output_type": "stream",
          "name": "stdout",
          "text": [
            "blue\n"
          ]
        }
      ]
    },
    {
      "cell_type": "markdown",
      "source": [
        "13.write a code to find the minimum number in the tuple (10, 20,5,15)"
      ],
      "metadata": {
        "id": "B6xI4f18kx3c"
      }
    },
    {
      "cell_type": "code",
      "source": [
        "num=(10,20,5,15)\n",
        "min_num=min(num)\n",
        "print(min_num)"
      ],
      "metadata": {
        "colab": {
          "base_uri": "https://localhost:8080/"
        },
        "id": "tuxdZQXzxnos",
        "outputId": "5f765575-8b03-437f-b789-3649f5ee858a"
      },
      "execution_count": 246,
      "outputs": [
        {
          "output_type": "stream",
          "name": "stdout",
          "text": [
            "5\n"
          ]
        }
      ]
    },
    {
      "cell_type": "markdown",
      "source": [
        "14. Write a code to find the index of the element 'cat' in the tuple ('dog','cat','rabbit')"
      ],
      "metadata": {
        "id": "n65-gRyjlJ3E"
      }
    },
    {
      "cell_type": "code",
      "source": [
        "animals=('dog','cat','rabbit')\n",
        "cat_index=animals.index('cat')\n",
        "print(cat_index)\n"
      ],
      "metadata": {
        "colab": {
          "base_uri": "https://localhost:8080/"
        },
        "id": "vv2XJ86tyBBK",
        "outputId": "8691fafb-30f4-464d-e0b4-2e9e44f45486"
      },
      "execution_count": 247,
      "outputs": [
        {
          "output_type": "stream",
          "name": "stdout",
          "text": [
            "1\n"
          ]
        }
      ]
    },
    {
      "cell_type": "markdown",
      "source": [
        "15.Write a code to create a tuple containing three different fruits and check if 'kiwi' is in it"
      ],
      "metadata": {
        "id": "ugA_WyxylmO-"
      }
    },
    {
      "cell_type": "code",
      "source": [
        "fruit=(\"apple\",\"mango\",\"kiwi\",\"cherry\")\n",
        "print('kiwi' in fruit)"
      ],
      "metadata": {
        "colab": {
          "base_uri": "https://localhost:8080/"
        },
        "id": "_wsbNc8uybKE",
        "outputId": "ba2d9b34-cc36-41b2-9caa-99a6f5d57b86"
      },
      "execution_count": 248,
      "outputs": [
        {
          "output_type": "stream",
          "name": "stdout",
          "text": [
            "True\n"
          ]
        }
      ]
    },
    {
      "cell_type": "markdown",
      "source": [
        "16. Write a code to create a set with the elements 'a','b','c' and print it ."
      ],
      "metadata": {
        "id": "VeaZOFwTmgJ5"
      }
    },
    {
      "cell_type": "code",
      "source": [
        "my_set={'a','b','c'}\n",
        "print(my_set)"
      ],
      "metadata": {
        "colab": {
          "base_uri": "https://localhost:8080/"
        },
        "id": "UfcFu06rzM8J",
        "outputId": "33c53c1d-c464-47e0-92b1-5288468cd5d9"
      },
      "execution_count": 249,
      "outputs": [
        {
          "output_type": "stream",
          "name": "stdout",
          "text": [
            "{'c', 'a', 'b'}\n"
          ]
        }
      ]
    },
    {
      "cell_type": "markdown",
      "source": [
        "17. Write a code to clear all elements from the set {1,2,3,4,5}"
      ],
      "metadata": {
        "id": "KXh-nFHtnTM_"
      }
    },
    {
      "cell_type": "code",
      "source": [
        "num={1,2,3,4,5}\n",
        "num.clear()\n",
        "print(num)\n"
      ],
      "metadata": {
        "colab": {
          "base_uri": "https://localhost:8080/"
        },
        "id": "lS6Xg2-Vzfn9",
        "outputId": "5f3dbf9e-f254-4b0a-bdb6-578ade7e758c"
      },
      "execution_count": 250,
      "outputs": [
        {
          "output_type": "stream",
          "name": "stdout",
          "text": [
            "set()\n"
          ]
        }
      ]
    },
    {
      "cell_type": "markdown",
      "source": [
        "18. Write a code to remove the element 4 from the set {1,2,3,4 }"
      ],
      "metadata": {
        "id": "n3ZrWJ67nZOa"
      }
    },
    {
      "cell_type": "code",
      "source": [
        "num={1,2,3,4,5}\n",
        "num.remove(4)\n",
        "print(num)"
      ],
      "metadata": {
        "colab": {
          "base_uri": "https://localhost:8080/"
        },
        "id": "kt8JEmwKz7OD",
        "outputId": "f62aa0d5-92e2-45dd-f9fa-37a0831684c1"
      },
      "execution_count": 251,
      "outputs": [
        {
          "output_type": "stream",
          "name": "stdout",
          "text": [
            "{1, 2, 3, 5}\n"
          ]
        }
      ]
    },
    {
      "cell_type": "markdown",
      "source": [
        "19. Write a code to find the union of two sets {1,2,3} and {3,4,5}."
      ],
      "metadata": {
        "id": "k_6Bjp5TnjQc"
      }
    },
    {
      "cell_type": "code",
      "source": [
        "set1={1,2,3}\n",
        "set2={3,4,5}\n",
        "union_set=set1.union(set2)\n",
        "print(union_set)"
      ],
      "metadata": {
        "colab": {
          "base_uri": "https://localhost:8080/"
        },
        "id": "7AhEU48m0QAQ",
        "outputId": "50b04fc7-655d-497d-cee3-296f45b16c41"
      },
      "execution_count": 252,
      "outputs": [
        {
          "output_type": "stream",
          "name": "stdout",
          "text": [
            "{1, 2, 3, 4, 5}\n"
          ]
        }
      ]
    },
    {
      "cell_type": "markdown",
      "source": [
        "20. Write a code to find the intersection of two sets {1,2,3}and {2,3,4}."
      ],
      "metadata": {
        "id": "cEPl8Psfnn9Y"
      }
    },
    {
      "cell_type": "code",
      "source": [
        "set1={1,2,3}\n",
        "set2={2,3,4}\n",
        "intersection_set=set1.intersection(set2)\n",
        "print(intersection_set)"
      ],
      "metadata": {
        "colab": {
          "base_uri": "https://localhost:8080/"
        },
        "id": "b4YzGNOK0auW",
        "outputId": "0ed55e68-fcad-4aeb-c5ef-95570bab9c27"
      },
      "execution_count": 253,
      "outputs": [
        {
          "output_type": "stream",
          "name": "stdout",
          "text": [
            "{2, 3}\n"
          ]
        }
      ]
    },
    {
      "cell_type": "markdown",
      "source": [
        "21. Write a code to create a dictionary with the keys \"name\", \"age\", and \"city\" , and print it ."
      ],
      "metadata": {
        "id": "2H3UPbfCnrsC"
      }
    },
    {
      "cell_type": "code",
      "source": [
        "person={'name':'zuleka','age':20,'city':'Hyderabad'}\n",
        "print(person)"
      ],
      "metadata": {
        "colab": {
          "base_uri": "https://localhost:8080/"
        },
        "id": "ubE-9_kg0keZ",
        "outputId": "7893728c-75f9-4b8d-99b9-572c5fd1585f"
      },
      "execution_count": 254,
      "outputs": [
        {
          "output_type": "stream",
          "name": "stdout",
          "text": [
            "{'name': 'zuleka', 'age': 20, 'city': 'Hyderabad'}\n"
          ]
        }
      ]
    },
    {
      "cell_type": "markdown",
      "source": [
        "22.Write a code to add a new key-value pair \"country\": USA to the dictioary {'name':'john','age':25}"
      ],
      "metadata": {
        "id": "n2afQ6efn-hZ"
      }
    },
    {
      "cell_type": "code",
      "source": [
        "person={'name':'john','age':25}\n",
        "person['country']='USA'\n",
        "print(person)"
      ],
      "metadata": {
        "colab": {
          "base_uri": "https://localhost:8080/"
        },
        "id": "J6aX1Okk1B8y",
        "outputId": "19423c45-5b09-4840-9bf4-5038f30752d7"
      },
      "execution_count": 255,
      "outputs": [
        {
          "output_type": "stream",
          "name": "stdout",
          "text": [
            "{'name': 'john', 'age': 25, 'country': 'USA'}\n"
          ]
        }
      ]
    },
    {
      "cell_type": "markdown",
      "source": [
        "23.Write a code to access the value associated with the key 'name' in the dictionary {'name':'john','age':30}"
      ],
      "metadata": {
        "id": "bPn_5Lp0n40P"
      }
    },
    {
      "cell_type": "code",
      "source": [
        "person={'name':'Alice','age':30}\n",
        "name=person['name']\n",
        "print(name)"
      ],
      "metadata": {
        "colab": {
          "base_uri": "https://localhost:8080/"
        },
        "id": "rwpeBR4C16o7",
        "outputId": "e6bbaad3-1f02-4830-8e1f-483e17a79e27"
      },
      "execution_count": 256,
      "outputs": [
        {
          "output_type": "stream",
          "name": "stdout",
          "text": [
            "Alice\n"
          ]
        }
      ]
    },
    {
      "cell_type": "markdown",
      "source": [
        "24.Write a code to remove the key \"age\" from the dictionary {'name':'bob','age':22,'city':'new york'}"
      ],
      "metadata": {
        "id": "RNXDiMtcoDUJ"
      }
    },
    {
      "cell_type": "code",
      "source": [
        "person={'name':'Bob','age':22, 'city':'New York'}\n",
        "person.pop('age')\n",
        "print(person)"
      ],
      "metadata": {
        "colab": {
          "base_uri": "https://localhost:8080/"
        },
        "id": "z7V-eZTr2bxv",
        "outputId": "7a6978de-d902-4f1a-8a6b-e89732bc2192"
      },
      "execution_count": 257,
      "outputs": [
        {
          "output_type": "stream",
          "name": "stdout",
          "text": [
            "{'name': 'Bob', 'city': 'New York'}\n"
          ]
        }
      ]
    },
    {
      "cell_type": "markdown",
      "source": [
        "25.Write a code to check if the key \"city\" exists in the dictionary {'name':Alice', 'city':'paris'}"
      ],
      "metadata": {
        "id": "YcTxMPv7oIrt"
      }
    },
    {
      "cell_type": "code",
      "source": [
        "person={'name':'Alice','age':30, 'city':'Paris'}\n",
        "city_present='city' in person\n",
        "print(city_present)"
      ],
      "metadata": {
        "colab": {
          "base_uri": "https://localhost:8080/"
        },
        "id": "fEJSBv6G31cN",
        "outputId": "844ec743-14f5-4ab5-870d-8813b21b3451"
      },
      "execution_count": 258,
      "outputs": [
        {
          "output_type": "stream",
          "name": "stdout",
          "text": [
            "True\n"
          ]
        }
      ]
    },
    {
      "cell_type": "markdown",
      "source": [
        "26. Write a code to create a list ,tuple, and dictionary and pint them all."
      ],
      "metadata": {
        "id": "_g7EHxIooOCs"
      }
    },
    {
      "cell_type": "code",
      "source": [
        "my_list=[1,2,3,4,5]\n",
        "my_tuple=(10,20,30)\n",
        "my_dict={'name':'zuleka','age':20}\n",
        "print(my_list)\n",
        "print(my_tuple)\n",
        "print(my_dict)"
      ],
      "metadata": {
        "colab": {
          "base_uri": "https://localhost:8080/"
        },
        "id": "DGjXEEcu4afU",
        "outputId": "2d86260b-bbf8-4607-856b-93dddef06a2a"
      },
      "execution_count": 259,
      "outputs": [
        {
          "output_type": "stream",
          "name": "stdout",
          "text": [
            "[1, 2, 3, 4, 5]\n",
            "(10, 20, 30)\n",
            "{'name': 'zuleka', 'age': 20}\n"
          ]
        }
      ]
    },
    {
      "cell_type": "markdown",
      "source": [
        "27. Write a code to create a list of 5 random numbers between 1 and 100 ,sort it in ascending order, and print the result."
      ],
      "metadata": {
        "id": "_xHNRqvzoUiV"
      }
    },
    {
      "cell_type": "code",
      "source": [
        "import random\n",
        "random_num=random.sample(range(1,101),5)\n",
        "random_num.sort()\n",
        "print(random_num)"
      ],
      "metadata": {
        "colab": {
          "base_uri": "https://localhost:8080/"
        },
        "id": "2qbF223V43mS",
        "outputId": "84b47371-aa26-4c46-acd5-a86659fc0894"
      },
      "execution_count": 260,
      "outputs": [
        {
          "output_type": "stream",
          "name": "stdout",
          "text": [
            "[13, 29, 39, 43, 61]\n"
          ]
        }
      ]
    },
    {
      "cell_type": "markdown",
      "source": [
        "28. create a list with strings and print the element at the third index."
      ],
      "metadata": {
        "id": "H2f-JtE3eQX-"
      }
    },
    {
      "cell_type": "code",
      "source": [
        "string_list =[\"apple\",\"banana\",\"mango\",\"cherry\"]\n",
        "print(string_list[2])"
      ],
      "metadata": {
        "colab": {
          "base_uri": "https://localhost:8080/"
        },
        "id": "5edhL2pVefNj",
        "outputId": "9521f6b7-99c9-4ba3-daf3-59b8845edbb6"
      },
      "execution_count": 261,
      "outputs": [
        {
          "output_type": "stream",
          "name": "stdout",
          "text": [
            "mango\n"
          ]
        }
      ]
    },
    {
      "cell_type": "markdown",
      "source": [
        "29. combine two dictionaries into one and print the result ."
      ],
      "metadata": {
        "id": "Fn6FL_ZufBX5"
      }
    },
    {
      "cell_type": "code",
      "source": [
        "dict1={\"a\":1,\"b\":2}\n",
        "dict2={\"c\":3,\"d\":4}\n",
        "dict1.update(dict2)\n",
        "print(dict1)"
      ],
      "metadata": {
        "colab": {
          "base_uri": "https://localhost:8080/"
        },
        "id": "POZFJ_wgfeNe",
        "outputId": "41d3ad78-0986-4d6b-8e9d-683ac2ff90c7"
      },
      "execution_count": 262,
      "outputs": [
        {
          "output_type": "stream",
          "name": "stdout",
          "text": [
            "{'a': 1, 'b': 2, 'c': 3, 'd': 4}\n"
          ]
        }
      ]
    },
    {
      "cell_type": "markdown",
      "source": [
        "30. Convert a list of string into a set."
      ],
      "metadata": {
        "id": "FRPf8267f6Fs"
      }
    },
    {
      "cell_type": "code",
      "source": [
        "string_list=[\"apple\",\"banana\",\"cherry\",\"mango\"]\n",
        "string_set=set(string_list)\n",
        "print(string_set)"
      ],
      "metadata": {
        "colab": {
          "base_uri": "https://localhost:8080/"
        },
        "id": "MDtGd73_gCo2",
        "outputId": "8adeafca-0cc1-459f-df55-39522c686674"
      },
      "execution_count": 263,
      "outputs": [
        {
          "output_type": "stream",
          "name": "stdout",
          "text": [
            "{'cherry', 'apple', 'banana', 'mango'}\n"
          ]
        }
      ]
    }
  ]
}